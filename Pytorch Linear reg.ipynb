{
 "cells": [
  {
   "cell_type": "code",
   "execution_count": 34,
   "metadata": {},
   "outputs": [],
   "source": [
    "import torch \n",
    "import numpy as np "
   ]
  },
  {
   "cell_type": "code",
   "execution_count": 35,
   "metadata": {},
   "outputs": [
    {
     "data": {
      "text/plain": [
       "tensor([[1., 1.],\n",
       "        [1., 1.]])"
      ]
     },
     "execution_count": 35,
     "metadata": {},
     "output_type": "execute_result"
    }
   ],
   "source": [
    "torch.ones(2,2)"
   ]
  },
  {
   "cell_type": "code",
   "execution_count": 36,
   "metadata": {},
   "outputs": [
    {
     "data": {
      "text/plain": [
       "tensor([[0.3074, 0.6341],\n",
       "        [0.4901, 0.8964]])"
      ]
     },
     "execution_count": 36,
     "metadata": {},
     "output_type": "execute_result"
    }
   ],
   "source": [
    "torch.rand(2,2)"
   ]
  },
  {
   "cell_type": "code",
   "execution_count": 37,
   "metadata": {},
   "outputs": [
    {
     "data": {
      "text/plain": [
       "tensor([[-1.0845, -1.3986],\n",
       "        [ 0.4033,  0.8380]])"
      ]
     },
     "execution_count": 37,
     "metadata": {},
     "output_type": "execute_result"
    }
   ],
   "source": [
    "torch.randn(2,2)"
   ]
  },
  {
   "cell_type": "code",
   "execution_count": 38,
   "metadata": {},
   "outputs": [
    {
     "data": {
      "text/plain": [
       "tensor([[0.4963, 0.7682],\n",
       "        [0.0885, 0.1320]])"
      ]
     },
     "execution_count": 38,
     "metadata": {},
     "output_type": "execute_result"
    }
   ],
   "source": [
    "torch.manual_seed(0) #seed\n",
    "torch.rand(2,2)"
   ]
  },
  {
   "cell_type": "code",
   "execution_count": 39,
   "metadata": {},
   "outputs": [
    {
     "data": {
      "text/plain": [
       "tensor([[0.4963, 0.7682],\n",
       "        [0.0885, 0.1320]])"
      ]
     },
     "execution_count": 39,
     "metadata": {},
     "output_type": "execute_result"
    }
   ],
   "source": [
    "torch.manual_seed(0)\n",
    "torch.rand(2,2)"
   ]
  },
  {
   "cell_type": "code",
   "execution_count": 40,
   "metadata": {},
   "outputs": [],
   "source": [
    "if torch.cuda.is_available():\n",
    "    torch.manual_seed_all(0)"
   ]
  },
  {
   "cell_type": "code",
   "execution_count": 41,
   "metadata": {},
   "outputs": [],
   "source": [
    "npone = np.ones((2,2))"
   ]
  },
  {
   "cell_type": "code",
   "execution_count": 42,
   "metadata": {},
   "outputs": [],
   "source": [
    "tone = torch.from_numpy(npone) #converting from numpy to torch tensor"
   ]
  },
  {
   "cell_type": "code",
   "execution_count": 43,
   "metadata": {},
   "outputs": [
    {
     "name": "stdout",
     "output_type": "stream",
     "text": [
      "tensor([[1., 1.],\n",
      "        [1., 1.]], dtype=torch.float64)\n"
     ]
    }
   ],
   "source": [
    "print(tone)"
   ]
  },
  {
   "cell_type": "code",
   "execution_count": 44,
   "metadata": {},
   "outputs": [],
   "source": [
    "npone = tone.numpy() #from torch to numpy"
   ]
  },
  {
   "cell_type": "code",
   "execution_count": 45,
   "metadata": {},
   "outputs": [],
   "source": [
    "x = torch.ones(2,2)"
   ]
  },
  {
   "cell_type": "code",
   "execution_count": 46,
   "metadata": {},
   "outputs": [
    {
     "name": "stdout",
     "output_type": "stream",
     "text": [
      "tensor([[1., 1.],\n",
      "        [1., 1.]])\n"
     ]
    }
   ],
   "source": [
    "print(x)"
   ]
  },
  {
   "cell_type": "code",
   "execution_count": 47,
   "metadata": {},
   "outputs": [
    {
     "name": "stdout",
     "output_type": "stream",
     "text": [
      "torch.Size([2, 2])\n"
     ]
    }
   ],
   "source": [
    "print(x.size())"
   ]
  },
  {
   "cell_type": "code",
   "execution_count": 48,
   "metadata": {},
   "outputs": [],
   "source": [
    "x = x.view(4)"
   ]
  },
  {
   "cell_type": "code",
   "execution_count": 49,
   "metadata": {},
   "outputs": [],
   "source": [
    "x = x.view(1,4)"
   ]
  },
  {
   "cell_type": "code",
   "execution_count": 50,
   "metadata": {},
   "outputs": [
    {
     "name": "stdout",
     "output_type": "stream",
     "text": [
      "torch.Size([1, 4])\n"
     ]
    }
   ],
   "source": [
    "print(x.size())"
   ]
  },
  {
   "cell_type": "code",
   "execution_count": 51,
   "metadata": {},
   "outputs": [],
   "source": [
    "c = torch.ones(2,2)"
   ]
  },
  {
   "cell_type": "code",
   "execution_count": 52,
   "metadata": {},
   "outputs": [],
   "source": [
    "a = c"
   ]
  },
  {
   "cell_type": "code",
   "execution_count": 53,
   "metadata": {},
   "outputs": [
    {
     "data": {
      "text/plain": [
       "tensor([[2., 2.],\n",
       "        [2., 2.]])"
      ]
     },
     "execution_count": 53,
     "metadata": {},
     "output_type": "execute_result"
    }
   ],
   "source": [
    "c.add_(a)          #Inplace addition"
   ]
  },
  {
   "cell_type": "code",
   "execution_count": 54,
   "metadata": {},
   "outputs": [],
   "source": [
    "f"
   ]
  },
  {
   "cell_type": "code",
   "execution_count": 55,
   "metadata": {},
   "outputs": [],
   "source": [
    "a = Variable(torch.ones(2,2), requires_grad = True)"
   ]
  },
  {
   "cell_type": "code",
   "execution_count": 56,
   "metadata": {},
   "outputs": [
    {
     "name": "stdout",
     "output_type": "stream",
     "text": [
      "tensor([45., 45.], grad_fn=<MulBackward0>)\n",
      "tensor(45., grad_fn=<MulBackward0>)\n"
     ]
    },
    {
     "data": {
      "text/plain": [
       "tensor([15., 15.])"
      ]
     },
     "execution_count": 56,
     "metadata": {},
     "output_type": "execute_result"
    }
   ],
   "source": [
    "x = Variable(torch.FloatTensor([2.0,2.0]), requires_grad = True) #define variable\n",
    "y = 5*(x+1)**2                                                   #define loss function\n",
    "print(y) \n",
    "o = (1/2)*sum(y)                                                 #convert to scalar through mean    \n",
    "print(o)\n",
    "o.backward()                                                    #compute gradient \n",
    "x.grad                                                           #show gradient "
   ]
  },
  {
   "cell_type": "code",
   "execution_count": 57,
   "metadata": {},
   "outputs": [],
   "source": [
    "import torch.nn as nn"
   ]
  },
  {
   "cell_type": "code",
   "execution_count": 58,
   "metadata": {},
   "outputs": [],
   "source": [
    "class LinearRegression(nn.Module):                      #always have to do \n",
    "    def __init__(self, input_size, output_size):             #always do \n",
    "        super(LinearRegression, self).__init__()        #inherit everything from nn.Module\n",
    "        self.linear = nn.Linear(input_dim, output_dim)       #call the linear reg\n",
    "    def forward(self,x):                    \n",
    "        out = self.linear(x)                                 #output \n",
    "        return out"
   ]
  },
  {
   "cell_type": "code",
   "execution_count": 59,
   "metadata": {},
   "outputs": [],
   "source": [
    "x = [i for i in range(11)]"
   ]
  },
  {
   "cell_type": "code",
   "execution_count": 60,
   "metadata": {},
   "outputs": [
    {
     "data": {
      "text/plain": [
       "[0, 1, 2, 3, 4, 5, 6, 7, 8, 9, 10]"
      ]
     },
     "execution_count": 60,
     "metadata": {},
     "output_type": "execute_result"
    }
   ],
   "source": [
    "x"
   ]
  },
  {
   "cell_type": "code",
   "execution_count": 61,
   "metadata": {},
   "outputs": [],
   "source": [
    "x = np.array(x, dtype = np.float32)\n",
    "x = x.reshape(-1,1)"
   ]
  },
  {
   "cell_type": "code",
   "execution_count": 62,
   "metadata": {},
   "outputs": [],
   "source": [
    "x\n",
    "y = 2*x + 1\n",
    "y = y.astype(np.float32)\n",
    "y = y.reshape(-1,1)\n",
    "#print(y)"
   ]
  },
  {
   "cell_type": "code",
   "execution_count": 63,
   "metadata": {},
   "outputs": [],
   "source": [
    "x = torch.from_numpy(x)\n",
    "y = torch.from_numpy(y)"
   ]
  },
  {
   "cell_type": "code",
   "execution_count": 64,
   "metadata": {},
   "outputs": [
    {
     "name": "stdout",
     "output_type": "stream",
     "text": [
      "tensor([[ 0.],\n",
      "        [ 1.],\n",
      "        [ 2.],\n",
      "        [ 3.],\n",
      "        [ 4.],\n",
      "        [ 5.],\n",
      "        [ 6.],\n",
      "        [ 7.],\n",
      "        [ 8.],\n",
      "        [ 9.],\n",
      "        [10.]])\n",
      "tensor([[ 1.],\n",
      "        [ 3.],\n",
      "        [ 5.],\n",
      "        [ 7.],\n",
      "        [ 9.],\n",
      "        [11.],\n",
      "        [13.],\n",
      "        [15.],\n",
      "        [17.],\n",
      "        [19.],\n",
      "        [21.]])\n"
     ]
    }
   ],
   "source": [
    "print(x)\n",
    "print(y)"
   ]
  },
  {
   "cell_type": "code",
   "execution_count": 65,
   "metadata": {},
   "outputs": [],
   "source": [
    "criterion = nn.MSELoss()"
   ]
  },
  {
   "cell_type": "code",
   "execution_count": 66,
   "metadata": {},
   "outputs": [],
   "source": [
    "learning_rate = 0.01 \n",
    "input_dim = 1\n",
    "output_dim = 1 \n",
    "model = LinearRegression(input_dim, output_dim)\n",
    "optimizer = torch.optim.SGD(model.parameters(), lr = learning_rate)"
   ]
  },
  {
   "cell_type": "code",
   "execution_count": 67,
   "metadata": {},
   "outputs": [],
   "source": [
    "epochs = 100"
   ]
  },
  {
   "cell_type": "code",
   "execution_count": 68,
   "metadata": {},
   "outputs": [
    {
     "name": "stdout",
     "output_type": "stream",
     "text": [
      "epoch 1, loss 217.1048126220703\n",
      "epoch 2, loss 17.74608039855957\n",
      "epoch 3, loss 1.4846025705337524\n",
      "epoch 4, loss 0.15779036283493042\n",
      "epoch 5, loss 0.049156706780195236\n",
      "epoch 6, loss 0.03989074006676674\n",
      "epoch 7, loss 0.03873426094651222\n",
      "epoch 8, loss 0.03824368864297867\n",
      "epoch 9, loss 0.037812016904354095\n",
      "epoch 10, loss 0.03738926351070404\n",
      "epoch 11, loss 0.03697174787521362\n",
      "epoch 12, loss 0.036558911204338074\n",
      "epoch 13, loss 0.03615058213472366\n",
      "epoch 14, loss 0.03574690222740173\n",
      "epoch 15, loss 0.03534780442714691\n",
      "epoch 16, loss 0.03495308384299278\n",
      "epoch 17, loss 0.03456275910139084\n",
      "epoch 18, loss 0.034176796674728394\n",
      "epoch 19, loss 0.03379516303539276\n",
      "epoch 20, loss 0.033417709171772\n",
      "epoch 21, loss 0.03304457664489746\n",
      "epoch 22, loss 0.03267562389373779\n",
      "epoch 23, loss 0.03231063112616539\n",
      "epoch 24, loss 0.03194985166192055\n",
      "epoch 25, loss 0.031593095511198044\n",
      "epoch 26, loss 0.031240295618772507\n",
      "epoch 27, loss 0.03089153952896595\n",
      "epoch 28, loss 0.03054657205939293\n",
      "epoch 29, loss 0.03020540252327919\n",
      "epoch 30, loss 0.02986808679997921\n",
      "epoch 31, loss 0.029534563422203064\n",
      "epoch 32, loss 0.029204778373241425\n",
      "epoch 33, loss 0.028878632932901382\n",
      "epoch 34, loss 0.02855611965060234\n",
      "epoch 35, loss 0.028237253427505493\n",
      "epoch 36, loss 0.027921950444579124\n",
      "epoch 37, loss 0.027610205113887787\n",
      "epoch 38, loss 0.027301855385303497\n",
      "epoch 39, loss 0.026997052133083344\n",
      "epoch 40, loss 0.026695528998970985\n",
      "epoch 41, loss 0.026397401466965675\n",
      "epoch 42, loss 0.026102561503648758\n",
      "epoch 43, loss 0.0258110910654068\n",
      "epoch 44, loss 0.025522954761981964\n",
      "epoch 45, loss 0.025237902998924255\n",
      "epoch 46, loss 0.024956025183200836\n",
      "epoch 47, loss 0.024677390232682228\n",
      "epoch 48, loss 0.0244018342345953\n",
      "epoch 49, loss 0.024129288271069527\n",
      "epoch 50, loss 0.023859841749072075\n",
      "epoch 51, loss 0.023593489080667496\n",
      "epoch 52, loss 0.02332993410527706\n",
      "epoch 53, loss 0.02306942641735077\n",
      "epoch 54, loss 0.02281183935701847\n",
      "epoch 55, loss 0.022557063028216362\n",
      "epoch 56, loss 0.02230517566204071\n",
      "epoch 57, loss 0.022056063637137413\n",
      "epoch 58, loss 0.021809814497828484\n",
      "epoch 59, loss 0.02156629040837288\n",
      "epoch 60, loss 0.02132541500031948\n",
      "epoch 61, loss 0.02108725719153881\n",
      "epoch 62, loss 0.020851878449320793\n",
      "epoch 63, loss 0.02061900496482849\n",
      "epoch 64, loss 0.020388728007674217\n",
      "epoch 65, loss 0.020161019638180733\n",
      "epoch 66, loss 0.019935935735702515\n",
      "epoch 67, loss 0.019713271409273148\n",
      "epoch 68, loss 0.019493108615279198\n",
      "epoch 69, loss 0.019275449216365814\n",
      "epoch 70, loss 0.019060298800468445\n",
      "epoch 71, loss 0.01884741149842739\n",
      "epoch 72, loss 0.01863699220120907\n",
      "epoch 73, loss 0.018428808078169823\n",
      "epoch 74, loss 0.018223056569695473\n",
      "epoch 75, loss 0.018019530922174454\n",
      "epoch 76, loss 0.01781832054257393\n",
      "epoch 77, loss 0.017619339749217033\n",
      "epoch 78, loss 0.01742258295416832\n",
      "epoch 79, loss 0.017228031530976295\n",
      "epoch 80, loss 0.017035676166415215\n",
      "epoch 81, loss 0.016845470294356346\n",
      "epoch 82, loss 0.016657289117574692\n",
      "epoch 83, loss 0.016471315175294876\n",
      "epoch 84, loss 0.016287367790937424\n",
      "epoch 85, loss 0.016105521470308304\n",
      "epoch 86, loss 0.015925675630569458\n",
      "epoch 87, loss 0.01574782095849514\n",
      "epoch 88, loss 0.015571970492601395\n",
      "epoch 89, loss 0.015398054383695126\n",
      "epoch 90, loss 0.015226046554744244\n",
      "epoch 91, loss 0.015056063421070576\n",
      "epoch 92, loss 0.014887940138578415\n",
      "epoch 93, loss 0.014721685089170933\n",
      "epoch 94, loss 0.014557281509041786\n",
      "epoch 95, loss 0.014394783414900303\n",
      "epoch 96, loss 0.014234057627618313\n",
      "epoch 97, loss 0.014075065962970257\n",
      "epoch 98, loss 0.013917868956923485\n",
      "epoch 99, loss 0.01376247126609087\n",
      "epoch 100, loss 0.013608756475150585\n"
     ]
    }
   ],
   "source": [
    "for epoch in range(epochs):\n",
    "    inputs = Variable(x)\n",
    "    Labels = Variable(y)\n",
    "    optimizer.zero_grad() \n",
    "    outputs = model(inputs)\n",
    "    loss =criterion(outputs, Labels)\n",
    "    loss.backward() \n",
    "    optimizer.step() \n",
    "    print('epoch {}, loss {}'.format(epoch+1, loss.item()))\n",
    "    \n",
    "    "
   ]
  },
  {
   "cell_type": "code",
   "execution_count": 69,
   "metadata": {},
   "outputs": [],
   "source": [
    "predicted = model(x).data.numpy()"
   ]
  },
  {
   "cell_type": "code",
   "execution_count": 70,
   "metadata": {},
   "outputs": [
    {
     "data": {
      "text/plain": [
       "array([[ 0.782995 ],\n",
       "       [ 2.8142457],\n",
       "       [ 4.845496 ],\n",
       "       [ 6.876747 ],\n",
       "       [ 8.907998 ],\n",
       "       [10.939249 ],\n",
       "       [12.970499 ],\n",
       "       [15.00175  ],\n",
       "       [17.033    ],\n",
       "       [19.06425  ],\n",
       "       [21.095503 ]], dtype=float32)"
      ]
     },
     "execution_count": 70,
     "metadata": {},
     "output_type": "execute_result"
    }
   ],
   "source": [
    "predicted"
   ]
  },
  {
   "cell_type": "code",
   "execution_count": 71,
   "metadata": {},
   "outputs": [],
   "source": [
    "import matplotlib.pyplot as plt "
   ]
  },
  {
   "cell_type": "code",
   "execution_count": 72,
   "metadata": {},
   "outputs": [
    {
     "data": {
      "image/png": "[encoded data removed]",
      "text/plain": [
       "<Figure size 432x288 with 1 Axes>"
      ]
     },
     "metadata": {
      "needs_background": "light"
     },
     "output_type": "display_data"
    }
   ],
   "source": [
    "plt.clf()\n",
    "plt.plot(x.numpy(),y.numpy(), 'go', label =  \"True Data\", alpha = 0.5)\n",
    "plt.plot(x.numpy(),predicted,'--', label = 'Predicted data', alpha = 0.5)\n",
    "plt.legend()\n",
    "plt.show()"
   ]
  },
  {
   "cell_type": "code",
   "execution_count": null,
   "metadata": {},
   "outputs": [],
   "source": []
  }
 ],
 "metadata": {
  "kernelspec": {
   "display_name": "Python 3",
   "language": "python",
   "name": "python3"
  },
  "language_info": {
   "codemirror_mode": {
    "name": "ipython",
    "version": 3
   },
   "file_extension": ".py",
   "mimetype": "text/x-python",
   "name": "python",
   "nbconvert_exporter": "python",
   "pygments_lexer": "ipython3",
   "version": "3.6.7"
  }
 },
 "nbformat": 4,
 "nbformat_minor": 2
}
