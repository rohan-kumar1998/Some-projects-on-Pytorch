{
 "cells": [
  {
   "cell_type": "code",
   "execution_count": 2,
   "metadata": {},
   "outputs": [],
   "source": [
    "import torch \n",
    "import torchvision.datasets as dsets \n",
    "import torchvision.transforms as transforms \n",
    "import torch.nn as nn \n",
    "import torch.nn.functional as F \n",
    "from torch.autograd import Variable "
   ]
  },
  {
   "cell_type": "code",
   "execution_count": 3,
   "metadata": {},
   "outputs": [
    {
     "data": {
      "text/plain": [
       "<torch._C.Generator at 0x7fb56ac0dfb0>"
      ]
     },
     "execution_count": 3,
     "metadata": {},
     "output_type": "execute_result"
    }
   ],
   "source": [
    "torch.manual_seed(1)"
   ]
  },
  {
   "cell_type": "code",
   "execution_count": 4,
   "metadata": {},
   "outputs": [],
   "source": [
    "word_to_ix = {\"hello\":0, \"world\":1}"
   ]
  },
  {
   "cell_type": "code",
   "execution_count": 5,
   "metadata": {},
   "outputs": [
    {
     "name": "stdout",
     "output_type": "stream",
     "text": [
      "tensor([[ 0.6614,  0.2669,  0.0617,  0.6213, -0.4519]],\n",
      "       grad_fn=<EmbeddingBackward>)\n"
     ]
    }
   ],
   "source": [
    "embeds = nn.Embedding(2,5)\n",
    "lookup_tensor = torch.tensor([word_to_ix[\"hello\"]],dtype = torch.long)\n",
    "hello_embed = embeds(lookup_tensor)\n",
    "print(hello_embed)"
   ]
  },
  {
   "cell_type": "code",
   "execution_count": 9,
   "metadata": {},
   "outputs": [],
   "source": [
    "CONTEXT_SIZE = 2\n",
    "EMBEDDING_DIM = 10\n",
    "# We will use Shakespeare Sonnet 2\n",
    "test_sentence = \"\"\"When forty winters shall besiege thy brow,\n",
    "And dig deep trenches in thy beauty's field,\n",
    "Thy youth's proud livery so gazed on now,\n",
    "Will be a totter'd weed of small worth held:\n",
    "Then being asked, where all thy beauty lies,\n",
    "Where all the treasure of thy lusty days;\n",
    "To say, within thine own deep sunken eyes,\n",
    "Were an all-eating shame, and thriftless praise.\n",
    "How much more praise deserv'd thy beauty's use,\n",
    "If thou couldst answer 'This fair child of mine\n",
    "Shall sum my count, and make my old excuse,'\n",
    "Proving his beauty by succession thine!\n",
    "This were to be new made when thou art old,\n",
    "And see thy blood warm when thou feel'st it cold.\"\"\".split()"
   ]
  },
  {
   "cell_type": "code",
   "execution_count": 21,
   "metadata": {},
   "outputs": [
    {
     "name": "stdout",
     "output_type": "stream",
     "text": [
      "[('When', 'forty', 'winters'), ('forty', 'winters', 'shall'), ('winters', 'shall', 'besiege'), ('shall', 'besiege', 'thy'), ('besiege', 'thy', 'brow,'), ('thy', 'brow,', 'And'), ('brow,', 'And', 'dig'), ('And', 'dig', 'deep'), ('dig', 'deep', 'trenches'), ('deep', 'trenches', 'in'), ('trenches', 'in', 'thy'), ('in', 'thy', \"beauty's\"), ('thy', \"beauty's\", 'field,'), (\"beauty's\", 'field,', 'Thy'), ('field,', 'Thy', \"youth's\"), ('Thy', \"youth's\", 'proud'), (\"youth's\", 'proud', 'livery'), ('proud', 'livery', 'so'), ('livery', 'so', 'gazed'), ('so', 'gazed', 'on'), ('gazed', 'on', 'now,'), ('on', 'now,', 'Will'), ('now,', 'Will', 'be'), ('Will', 'be', 'a'), ('be', 'a', \"totter'd\"), ('a', \"totter'd\", 'weed'), (\"totter'd\", 'weed', 'of'), ('weed', 'of', 'small'), ('of', 'small', 'worth'), ('small', 'worth', 'held:'), ('worth', 'held:', 'Then'), ('held:', 'Then', 'being'), ('Then', 'being', 'asked,'), ('being', 'asked,', 'where'), ('asked,', 'where', 'all'), ('where', 'all', 'thy'), ('all', 'thy', 'beauty'), ('thy', 'beauty', 'lies,'), ('beauty', 'lies,', 'Where'), ('lies,', 'Where', 'all'), ('Where', 'all', 'the'), ('all', 'the', 'treasure'), ('the', 'treasure', 'of'), ('treasure', 'of', 'thy'), ('of', 'thy', 'lusty'), ('thy', 'lusty', 'days;'), ('lusty', 'days;', 'To'), ('days;', 'To', 'say,'), ('To', 'say,', 'within'), ('say,', 'within', 'thine'), ('within', 'thine', 'own'), ('thine', 'own', 'deep'), ('own', 'deep', 'sunken'), ('deep', 'sunken', 'eyes,'), ('sunken', 'eyes,', 'Were'), ('eyes,', 'Were', 'an'), ('Were', 'an', 'all-eating'), ('an', 'all-eating', 'shame,'), ('all-eating', 'shame,', 'and'), ('shame,', 'and', 'thriftless'), ('and', 'thriftless', 'praise.'), ('thriftless', 'praise.', 'How'), ('praise.', 'How', 'much'), ('How', 'much', 'more'), ('much', 'more', 'praise'), ('more', 'praise', \"deserv'd\"), ('praise', \"deserv'd\", 'thy'), (\"deserv'd\", 'thy', \"beauty's\"), ('thy', \"beauty's\", 'use,'), (\"beauty's\", 'use,', 'If'), ('use,', 'If', 'thou'), ('If', 'thou', 'couldst'), ('thou', 'couldst', 'answer'), ('couldst', 'answer', \"'This\"), ('answer', \"'This\", 'fair'), (\"'This\", 'fair', 'child'), ('fair', 'child', 'of'), ('child', 'of', 'mine'), ('of', 'mine', 'Shall'), ('mine', 'Shall', 'sum'), ('Shall', 'sum', 'my'), ('sum', 'my', 'count,'), ('my', 'count,', 'and'), ('count,', 'and', 'make'), ('and', 'make', 'my'), ('make', 'my', 'old'), ('my', 'old', \"excuse,'\"), ('old', \"excuse,'\", 'Proving'), (\"excuse,'\", 'Proving', 'his'), ('Proving', 'his', 'beauty'), ('his', 'beauty', 'by'), ('beauty', 'by', 'succession'), ('by', 'succession', 'thine!'), ('succession', 'thine!', 'This'), ('thine!', 'This', 'were'), ('This', 'were', 'to'), ('were', 'to', 'be'), ('to', 'be', 'new'), ('be', 'new', 'made'), ('new', 'made', 'when'), ('made', 'when', 'thou'), ('when', 'thou', 'art'), ('thou', 'art', 'old,'), ('art', 'old,', 'And'), ('old,', 'And', 'see'), ('And', 'see', 'thy'), ('see', 'thy', 'blood'), ('thy', 'blood', 'warm'), ('blood', 'warm', 'when'), ('warm', 'when', 'thou'), ('when', 'thou', \"feel'st\"), ('thou', \"feel'st\", 'it'), (\"feel'st\", 'it', 'cold.')]\n"
     ]
    }
   ],
   "source": [
    "trigrams = [(test_sentence[i], test_sentence[i+1], test_sentence[i+2]) for i in range(len(test_sentence) - 2)]\n",
    "print(trigrams)"
   ]
  },
  {
   "cell_type": "code",
   "execution_count": 12,
   "metadata": {},
   "outputs": [],
   "source": [
    "vocab = set(test_sentence)"
   ]
  },
  {
   "cell_type": "code",
   "execution_count": 17,
   "metadata": {},
   "outputs": [],
   "source": [
    "word_to_ix = {word : i for i,word in enumerate(vocab)}"
   ]
  },
  {
   "cell_type": "code",
   "execution_count": 18,
   "metadata": {},
   "outputs": [],
   "source": [
    "class ngramlanguagemodeler(nn.Module):\n",
    "    def __init__(self,vocab_size, embedding_dim, context_size):\n",
    "        super(ngramlanguagemodeler, self).__init__()\n",
    "        self.embeddings = nn.Embedding(vocab_size, embedding_dim)\n",
    "        self.linear1 = nn.Linear(context_size*embedding_dim , 128)\n",
    "        self.linear2 = nn.Linear(128,vocab_size)\n",
    "    def forward(self, x):\n",
    "        embeds = self.embeddings(x).view(1,-1)\n",
    "        out = F.relu(self.linear1(embeds))\n",
    "        out = self.linear2(out)\n",
    "        out = F.log_softmax(out, dim = 1)\n",
    "        return out "
   ]
  },
  {
   "cell_type": "code",
   "execution_count": 19,
   "metadata": {},
   "outputs": [],
   "source": [
    "losses = []\n",
    "criterion = nn.NLLLoss()\n",
    "model = ngramlanguagemodeler(len(vocab), EMBEDDING_DIM, 2)"
   ]
  },
  {
   "cell_type": "code",
   "execution_count": 20,
   "metadata": {},
   "outputs": [],
   "source": [
    "otimizer = torch.optim.SGD(model.parameters(), lr = 0.001)"
   ]
  },
  {
   "cell_type": "code",
   "execution_count": null,
   "metadata": {},
   "outputs": [],
   "source": [
    "for epoch in range(10):\n",
    "    total_loss = 0\n",
    "    for context, target in trigrams:\n",
    "        cont = torch.tensor([word_to_ix[w] for w in context])\n",
    "        "
   ]
  }
 ],
 "metadata": {
  "kernelspec": {
   "display_name": "Python 3",
   "language": "python",
   "name": "python3"
  },
  "language_info": {
   "codemirror_mode": {
    "name": "ipython",
    "version": 3
   },
   "file_extension": ".py",
   "mimetype": "text/x-python",
   "name": "python",
   "nbconvert_exporter": "python",
   "pygments_lexer": "ipython3",
   "version": "3.6.7"
  }
 },
 "nbformat": 4,
 "nbformat_minor": 2
}
