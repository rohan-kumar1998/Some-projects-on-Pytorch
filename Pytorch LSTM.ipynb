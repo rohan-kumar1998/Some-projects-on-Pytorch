{
 "cells": [
  {
   "cell_type": "code",
   "execution_count": 3,
   "metadata": {},
   "outputs": [],
   "source": [
    "import torch \n",
    "import torchvision.datasets as dsets \n",
    "from torch.autograd import Variable \n",
    "import torchvision.transforms as transforms\n",
    "import torch.nn as nn \n",
    "import numpy as np \n",
    "import matplotlib.pyplot as plt "
   ]
  },
  {
   "cell_type": "code",
   "execution_count": 5,
   "metadata": {},
   "outputs": [],
   "source": [
    "train_dataset = dsets.MNIST(root = './data', train = True, transform= transforms.ToTensor(), download = False)"
   ]
  },
  {
   "cell_type": "code",
   "execution_count": 6,
   "metadata": {},
   "outputs": [],
   "source": [
    "test_dataset = dsets.MNIST(root = './data', transform= transforms.ToTensor(), train = False, download = False)"
   ]
  },
  {
   "cell_type": "code",
   "execution_count": 7,
   "metadata": {},
   "outputs": [],
   "source": [
    "n_iters = 3000 \n",
    "batch_size = 100 \n",
    "num_epoch = n_iters/(len(train_dataset)/batch_size)\n",
    "train_loader = torch.utils.data.DataLoader(dataset= train_dataset, batch_size= batch_size)\n",
    "test_loader = torch.utils.data.DataLoader(dataset= test_dataset, batch_size= batch_size)"
   ]
  },
  {
   "cell_type": "code",
   "execution_count": 10,
   "metadata": {},
   "outputs": [],
   "source": [
    "class LSTMmodel(nn.Module):\n",
    "    def __init__(self,input_dim,hidden_dim, input_layer, output_dim):\n",
    "        super(LSTMmodel, self).__init__()\n",
    "        self.hidden_dim = hidden_dim \n",
    "        self.layer_dim = layer_dim \n",
    "        self.LSTM = nn.LSTM(input_dim, hidden_dim, input_layer, batch_first = True)\n",
    "        self.fc = nn.Linear(hidden_dim, output_dim)\n",
    "    def forward(self,x):\n",
    "        h0 = Variable(torch.zeros(self.hidden_dim, x.size(0), self.layer_dim))\n",
    "        c0 = Variable(torch.zeros(self.hidden_dim, x.size(0), self.layer_dim))\n",
    "        out, (hn,cn) = self.LSTM(x, (h0,c0))\n",
    "        out = self.fc(out[:,-1,:])\n",
    "        return out\n",
    "        "
   ]
  },
  {
   "cell_type": "code",
   "execution_count": null,
   "metadata": {},
   "outputs": [],
   "source": []
  }
 ],
 "metadata": {
  "kernelspec": {
   "display_name": "Python 3",
   "language": "python",
   "name": "python3"
  },
  "language_info": {
   "codemirror_mode": {
    "name": "ipython",
    "version": 3
   },
   "file_extension": ".py",
   "mimetype": "text/x-python",
   "name": "python",
   "nbconvert_exporter": "python",
   "pygments_lexer": "ipython3",
   "version": "3.6.7"
  }
 },
 "nbformat": 4,
 "nbformat_minor": 2
}
