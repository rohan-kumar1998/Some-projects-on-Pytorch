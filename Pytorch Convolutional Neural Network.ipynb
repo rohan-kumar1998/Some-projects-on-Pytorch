{
 "cells": [
  {
   "cell_type": "code",
   "execution_count": 10,
   "metadata": {},
   "outputs": [],
   "source": [
    "import torch \n",
    "import torch.nn as nn\n",
    "from torch.autograd import Variable\n",
    "import torchvision.datasets as dsets \n",
    "import torchvision.transforms as transforms\n",
    "import matplotlib.pyplot as plt  \n",
    "import numpy as np"
   ]
  },
  {
   "cell_type": "code",
   "execution_count": 11,
   "metadata": {},
   "outputs": [],
   "source": [
    "train_dataset = dsets.MNIST(root = './data', train = True, transform = transforms.ToTensor(), download = False)"
   ]
  },
  {
   "cell_type": "code",
   "execution_count": 12,
   "metadata": {},
   "outputs": [],
   "source": [
    "test_dataset = dsets.MNIST(root = './data', train = False, transform = transforms.ToTensor(), download = False)"
   ]
  },
  {
   "cell_type": "code",
   "execution_count": 13,
   "metadata": {},
   "outputs": [],
   "source": [
    "n_iter = 3000 \n",
    "batch_size = 100 \n",
    "num_epoch = n_iter/(len(train_dataset)/ batch_size)\n",
    "num_epoch = int(num_epoch)\n",
    "\n",
    "train_loader = torch.utils.data.DataLoader(dataset= train_dataset, batch_size= batch_size, shuffle= True)\n",
    "test_loader = torch.utils.data.DataLoader(dataset= test_dataset, batch_size = batch_size, shuffle= True)"
   ]
  },
  {
   "cell_type": "code",
   "execution_count": 14,
   "metadata": {},
   "outputs": [],
   "source": [
    "class CNNmodel(nn.Module):\n",
    "    def __init__(self):\n",
    "        super(CNNmodel, self).__init__()\n",
    "        self.cnn1 = nn.Conv2d(in_channels=1, out_channels= 16,kernel_size=5, stride= 1, padding=2)\n",
    "        self.relu1 = nn.ReLU()\n",
    "        self.maxpool1 = nn.MaxPool2d(kernel_size=2)\n",
    "        self.cnn2 = nn.Conv2d(in_channels= 16, out_channels= 32, kernel_size= 5, stride = 1, padding=2)\n",
    "        self.relu2 = nn.ReLU()\n",
    "        self.maxpool2 = nn.MaxPool2d(kernel_size=2)\n",
    "        self.fc1 = nn.Linear(32*7*7, 10)\n",
    "        \n",
    "    def forward(self, x):\n",
    "        out = self.cnn1(x)\n",
    "        out = self.relu1(out)\n",
    "        out = self.maxpool1(out)\n",
    "        out = self.cnn2(out)\n",
    "        out = self.relu2(out)\n",
    "        out = self.maxpool2(out)\n",
    "        out = out.view(out.size(0),-1)\n",
    "        out = self.fc1(out)\n",
    "        return out"
   ]
  },
  {
   "cell_type": "code",
   "execution_count": 15,
   "metadata": {},
   "outputs": [],
   "source": [
    "model = CNNmodel()\n",
    "criterion = nn.CrossEntropyLoss()\n",
    "learning_rate = 0.01\n",
    "optimizer = torch.optim.SGD(model.parameters(), lr = learning_rate)"
   ]
  },
  {
   "cell_type": "code",
   "execution_count": 16,
   "metadata": {},
   "outputs": [
    {
     "name": "stdout",
     "output_type": "stream",
     "text": [
      "iterations : 500, accuracy : 85, loss : 2.6569427417218687\n",
      "iterations : 1000, accuracy : 92, loss : 1.495492355376482\n",
      "iterations : 1500, accuracy : 94, loss : 1.1590299484878779\n",
      "iterations : 2000, accuracy : 95, loss : 0.9479428413510322\n",
      "iterations : 2500, accuracy : 95, loss : 0.8291626275330782\n",
      "iterations : 3000, accuracy : 96, loss : 0.7128840801864862\n"
     ]
    }
   ],
   "source": [
    "iter = 0 \n",
    "for epoch in range(num_epoch):\n",
    "    for i,(images, labels) in enumerate(train_loader):\n",
    "        images = Variable(images)\n",
    "        labels = Variable(labels)\n",
    "        optimizer.zero_grad()\n",
    "        outputs = model(images)\n",
    "        loss = criterion(outputs,labels)\n",
    "        loss.backward()\n",
    "        optimizer.step()\n",
    "        iter += 1 \n",
    "        if iter % 500 == 0: \n",
    "            total = 0 \n",
    "            correct = 0\n",
    "            lossval = 0\n",
    "            for images,labels in train_loader:\n",
    "                images = Variable(images)\n",
    "                labels = Variable(labels)\n",
    "                output = model(images)\n",
    "                loss = criterion(output,labels)\n",
    "                lossval += loss.item()\n",
    "                _, predicted = torch.max(output.data, 1)\n",
    "                total += labels.size(0)\n",
    "                correct += (predicted == labels).sum()\n",
    "            accuracy = 100 * correct / total\n",
    "            print(\"iterations : {}, accuracy : {}, loss : {}\".format(iter, accuracy, lossval/len(labels)))"
   ]
  },
  {
   "cell_type": "code",
   "execution_count": 12,
   "metadata": {},
   "outputs": [
    {
     "name": "stdout",
     "output_type": "stream",
     "text": [
      "accuracy for test dataset ; 97\n"
     ]
    }
   ],
   "source": [
    "correct = 0\n",
    "total = 0\n",
    "for images, labels in test_loader:\n",
    "    images = Variable(images)\n",
    "    labels = Variable(labels)\n",
    "    output = model(images)\n",
    "    _,predicted = torch.max(output.data, 1)\n",
    "    correct += (predicted == labels).sum()\n",
    "    total += labels.size(0)\n",
    "accuracy = 100 * correct/ total\n",
    "print(\"accuracy for test dataset ; {}\".format(accuracy))"
   ]
  },
  {
   "cell_type": "code",
   "execution_count": 7,
   "metadata": {},
   "outputs": [
    {
     "data": {
      "text/plain": [
       "<matplotlib.image.AxesImage at 0x7fadefb21780>"
      ]
     },
     "execution_count": 7,
     "metadata": {},
     "output_type": "execute_result"
    },
    {
     "data": {
      "image/png": "[encoded data removed]",
      "text/plain": [
       "<Figure size 432x288 with 1 Axes>"
      ]
     },
     "metadata": {
      "needs_background": "light"
     },
     "output_type": "display_data"
    }
   ],
   "source": [
    "show_img = train_dataset[0][0].numpy().reshape(28,28)\n",
    "plt.imshow(show_img, cmap = 'gray')"
   ]
  },
  {
   "cell_type": "code",
   "execution_count": null,
   "metadata": {},
   "outputs": [],
   "source": []
  }
 ],
 "metadata": {
  "kernelspec": {
   "display_name": "Python 3",
   "language": "python",
   "name": "python3"
  },
  "language_info": {
   "codemirror_mode": {
    "name": "ipython",
    "version": 3
   },
   "file_extension": ".py",
   "mimetype": "text/x-python",
   "name": "python",
   "nbconvert_exporter": "python",
   "pygments_lexer": "ipython3",
   "version": "3.6.7"
  }
 },
 "nbformat": 4,
 "nbformat_minor": 2
}
